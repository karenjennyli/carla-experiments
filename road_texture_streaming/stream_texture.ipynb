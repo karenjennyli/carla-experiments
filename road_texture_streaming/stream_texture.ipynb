{
 "cells": [
  {
   "cell_type": "code",
   "execution_count": 1,
   "metadata": {},
   "outputs": [],
   "source": [
    "# imports\n",
    "import carla\n",
    "from PIL import Image"
   ]
  },
  {
   "cell_type": "code",
   "execution_count": 2,
   "metadata": {},
   "outputs": [],
   "source": [
    "# connect to client and load Town02\n",
    "client = carla.Client('127.0.0.1', 2000)\n",
    "client.set_timeout(2.0)\n",
    "world = client.get_world()"
   ]
  },
  {
   "cell_type": "code",
   "execution_count": 3,
   "metadata": {},
   "outputs": [],
   "source": [
    "# set weather with sun pointing down\n",
    "weather = carla.WeatherParameters.ClearNoon\n",
    "weather.sun_altitude_angle = 90\n",
    "world.set_weather(weather)"
   ]
  },
  {
   "cell_type": "code",
   "execution_count": 4,
   "metadata": {},
   "outputs": [],
   "source": [
    "# load default texture image and create texture object\n",
    "image = Image.open('textures/Asphalt_d_4_brightened.png')\n",
    "width, height = image.size\n",
    "default_texture = carla.TextureColor(width, height)\n",
    "for x in range(0,width):\n",
    "    for y in range(0,height):\n",
    "        color = image.getpixel((x,y))\n",
    "        r = int(color[0])\n",
    "        g = int(color[1])\n",
    "        b = int(color[2])\n",
    "        a = 255\n",
    "        default_texture.set(x, y, carla.Color(r,g,b,a))"
   ]
  },
  {
   "cell_type": "code",
   "execution_count": 33,
   "metadata": {},
   "outputs": [],
   "source": [
    "# stream default texture to all roads\n",
    "all_numbers =  [85, 93,\n",
    "                109, 117, \n",
    "                262, 184, \n",
    "                263, 185, \n",
    "                264, 186, \n",
    "                39, 35,\n",
    "                31, 27,\n",
    "                23, 19,\n",
    "                15, 11,\n",
    "                7, 3,\n",
    "                142, 220,\n",
    "                141, 219,\n",
    "                140, 218]\n",
    "for number in all_numbers:\n",
    "    world.apply_color_texture_to_object('Road_Road_Town02_' + str(number), carla.MaterialParameter.Diffuse, default_texture)"
   ]
  },
  {
   "cell_type": "code",
   "execution_count": 38,
   "metadata": {},
   "outputs": [],
   "source": [
    "# define adversarial image path\n",
    "adv_image_path_base = 'textures/'\n",
    "adv_image_name = 'stripe_adv.png'\n",
    "adv_image_path = adv_image_path_base + adv_image_name\n",
    "# load adversarial texture image and create texture object\n",
    "image = Image.open(adv_image_path)\n",
    "width, height = image.size\n",
    "adv_texture = carla.TextureColor(width, height)\n",
    "for x in range(0,width):\n",
    "    for y in range(0,height):\n",
    "        color = image.getpixel((x,y))\n",
    "        r = int(color[0])\n",
    "        g = int(color[1])\n",
    "        b = int(color[2])\n",
    "        a = 255\n",
    "        adv_texture.set(x, y, carla.Color(r,g,b,a))"
   ]
  },
  {
   "cell_type": "code",
   "execution_count": 9,
   "metadata": {},
   "outputs": [],
   "source": [
    "# define road regions\n",
    "corner = [31, 27, 23, 19, 15, 11]\n",
    "before_corner = [3, 7]\n",
    "after_corner = [35, 39]\n",
    "patch0 = [85, 93]\n",
    "patch1 = [109, 117]\n",
    "patch2 = [262, 184]\n",
    "patch3 = [263, 185]\n",
    "patch4 = [264, 186]\n",
    "patch5 = [142, 220]\n",
    "patch6 = [141, 219]\n",
    "patch7 = [140, 218]"
   ]
  },
  {
   "cell_type": "code",
   "execution_count": 31,
   "metadata": {},
   "outputs": [],
   "source": [
    "# set which region to apply adversarial texture\n",
    "numbers = corner"
   ]
  },
  {
   "cell_type": "code",
   "execution_count": 39,
   "metadata": {},
   "outputs": [],
   "source": [
    "# stream adversarial texture to specific roads\n",
    "for number in numbers:\n",
    "    world.apply_color_texture_to_object('Road_Road_Town02_' + str(number), carla.MaterialParameter.Diffuse, adv_texture)"
   ]
  }
 ],
 "metadata": {
  "kernelspec": {
   "display_name": "carlapy38",
   "language": "python",
   "name": "python3"
  },
  "language_info": {
   "codemirror_mode": {
    "name": "ipython",
    "version": 3
   },
   "file_extension": ".py",
   "mimetype": "text/x-python",
   "name": "python",
   "nbconvert_exporter": "python",
   "pygments_lexer": "ipython3",
   "version": "3.7.12"
  }
 },
 "nbformat": 4,
 "nbformat_minor": 2
}
