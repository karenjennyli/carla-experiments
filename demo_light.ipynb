{
 "cells": [
  {
   "cell_type": "code",
   "execution_count": 1,
   "metadata": {},
   "outputs": [],
   "source": [
    "# import modules\n",
    "import sys\n",
    "try:\n",
    "    sys.path.append('/home/karenli/carla/PythonAPI/carla/dist/carla-0.9.14-py3.8-linux-x86_64.egg')\n",
    "except IndexError:\n",
    "    print('Error: CARLA PythonAPI not found.')\n",
    "    pass\n",
    "\n",
    "import carla\n",
    "import time"
   ]
  },
  {
   "cell_type": "code",
   "execution_count": 2,
   "metadata": {},
   "outputs": [],
   "source": [
    "# connect to the client and get the world object\n",
    "client = carla.Client('localhost', 2000)\n",
    "world = client.get_world()"
   ]
  },
  {
   "cell_type": "code",
   "execution_count": 26,
   "metadata": {},
   "outputs": [],
   "source": [
    "# set weather to night time\n",
    "world.set_weather(carla.WeatherParameters(cloudiness=0.0, precipitation=0.0, sun_altitude_angle=-90.0))"
   ]
  },
  {
   "cell_type": "code",
   "execution_count": 4,
   "metadata": {},
   "outputs": [],
   "source": [
    "# get the light manager and lights\n",
    "lmanager = world.get_lightmanager()\n",
    "mylights = lmanager.get_all_lights()"
   ]
  },
  {
   "cell_type": "code",
   "execution_count": 6,
   "metadata": {},
   "outputs": [],
   "source": [
    "# street light 19 is the one I want to change\n",
    "# 19 Street Location(x=95.470001, y=215.699997, z=0.000000)\n",
    "test_light = None\n",
    "for light in mylights:\n",
    "    if light.id == 19:\n",
    "        test_light = light\n",
    "        break"
   ]
  },
  {
   "cell_type": "code",
   "execution_count": 27,
   "metadata": {},
   "outputs": [
    {
     "ename": "",
     "evalue": "",
     "output_type": "error",
     "traceback": [
      "\u001b[1;31mThe Kernel crashed while executing code in the the current cell or a previous cell. Please review the code in the cell(s) to identify a possible cause of the failure. Click <a href='https://aka.ms/vscodeJupyterKernelCrash'>here</a> for more info. View Jupyter <a href='command:jupyter.viewOutput'>log</a> for further details."
     ]
    }
   ],
   "source": [
    "# smooth transition of light intensity\n",
    "for i in range(2):\n",
    "    for i in range(0, 1000):\n",
    "        test_light.set_intensity(i * 100)\n",
    "        time.sleep(0.0005)\n",
    "\n",
    "    for i in range(1000, 0, -1):\n",
    "        test_light.set_intensity(i * 100)\n",
    "        time.sleep(0.0005)\n",
    "\n",
    "# transition of light color, rainbow order\n",
    "test_light.set_intensity(100000)\n",
    "colors = [carla.Color(255, 0, 0), carla.Color(255, 165, 0), carla.Color(255, 255, 0), carla.Color(0, 128, 0),\n",
    "          carla.Color(0, 0, 255), carla.Color(75, 0, 130), carla.Color(238, 130, 238)]\n",
    "for color in colors:\n",
    "    test_light.set_color(color)\n",
    "    time.sleep(0.5)\n",
    "\n",
    "# blink the light\n",
    "test_light.set_color(carla.Color(255, 255, 255))\n",
    "for i in range(0, 5):\n",
    "    test_light.set_intensity(0)\n",
    "    time.sleep(0.5)\n",
    "    test_light.set_intensity(100000)\n",
    "    time.sleep(0.5)"
   ]
  }
 ],
 "metadata": {
  "kernelspec": {
   "display_name": "carlapy38",
   "language": "python",
   "name": "python3"
  },
  "language_info": {
   "codemirror_mode": {
    "name": "ipython",
    "version": 3
   },
   "file_extension": ".py",
   "mimetype": "text/x-python",
   "name": "python",
   "nbconvert_exporter": "python",
   "pygments_lexer": "ipython3",
   "version": "3.8.18"
  }
 },
 "nbformat": 4,
 "nbformat_minor": 2
}
