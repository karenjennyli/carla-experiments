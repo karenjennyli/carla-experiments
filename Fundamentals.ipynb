{
 "cells": [
  {
   "cell_type": "code",
   "execution_count": 1,
   "id": "2a25e871-c63d-47c7-9443-872d53c00dce",
   "metadata": {},
   "outputs": [],
   "source": [
    "# Import the CARLA Python API library and some utils\n",
    "import sys\n",
    "\n",
    "try:\n",
    "    sys.path.append('/home/karenli/carla/PythonAPI/carla/dist/carla-0.9.14-py3.8-linux-x86_64.egg')\n",
    "except IndexError:\n",
    "    print('Error: CARLA PythonAPI not found.')\n",
    "    pass\n",
    "\n",
    "import carla \n",
    "import random "
   ]
  },
  {
   "cell_type": "code",
   "execution_count": 2,
   "id": "aa8c85ee-1a54-4dc0-a79c-709228570d1a",
   "metadata": {},
   "outputs": [],
   "source": [
    "# Connect to the client and get the world object\n",
    "client = carla.Client('localhost', 2000)\n",
    "client.load_world('Town07')\n",
    "world = client.get_world() "
   ]
  },
  {
   "cell_type": "code",
   "execution_count": 3,
   "id": "42a1ddcc-d6df-4bbd-b904-15ed03739766",
   "metadata": {},
   "outputs": [],
   "source": [
    "# Get the blueprint library and the spawn points for the map\n",
    "bp_lib = world.get_blueprint_library() \n",
    "spawn_points = world.get_map().get_spawn_points() "
   ]
  },
  {
   "cell_type": "code",
   "execution_count": 4,
   "id": "71e73030-a065-4ac8-9bdb-dba8006d68d7",
   "metadata": {},
   "outputs": [],
   "source": [
    "# Get the blueprint for the vehicle you want\n",
    "vehicle_bp = bp_lib.find('vehicle.lincoln.mkz_2020') \n",
    "\n",
    "# Try spawning the vehicle at a randomly chosen spawn point\n",
    "vehicle = world.try_spawn_actor(vehicle_bp, random.choice(spawn_points))"
   ]
  },
  {
   "cell_type": "code",
   "execution_count": 5,
   "id": "c765d8ae-09cb-4790-aeaf-802626753d9e",
   "metadata": {},
   "outputs": [],
   "source": [
    "# Move the spectator behind the vehicle \n",
    "spectator = world.get_spectator() \n",
    "transform = carla.Transform(vehicle.get_transform().transform(carla.Location(x=-4,z=2.5)),vehicle.get_transform().rotation) \n",
    "spectator.set_transform(transform) "
   ]
  },
  {
   "cell_type": "code",
   "execution_count": 6,
   "id": "e27a72f9-ada0-43a2-8f73-037d974b915a",
   "metadata": {},
   "outputs": [],
   "source": [
    "# Add traffic to the simulation\n",
    "for i in range(30): \n",
    "    vehicle_bp = random.choice(bp_lib.filter('vehicle')) \n",
    "    npc = world.try_spawn_actor(vehicle_bp, random.choice(spawn_points)) "
   ]
  },
  {
   "cell_type": "code",
   "execution_count": 7,
   "id": "6fac134a-68c5-42b0-a2a7-f344e6a17d8c",
   "metadata": {},
   "outputs": [],
   "source": [
    "# Set the all vehicles in motion using the Traffic Manager\n",
    "for v in world.get_actors().filter('*vehicle*'): \n",
    "    v.set_autopilot(True) "
   ]
  },
  {
   "cell_type": "code",
   "execution_count": 8,
   "id": "f7df2513-eda0-4d59-b216-aa91b928dc1a",
   "metadata": {},
   "outputs": [],
   "source": [
    "# Spawn an RGB cammera with an offset from the vehicle center\n",
    "camera_bp = bp_lib.find('sensor.camera.rgb') \n",
    "camera_init_trans = carla.Transform(carla.Location(z=2))\n",
    "camera = world.spawn_actor(camera_bp, camera_init_trans, attach_to=vehicle)"
   ]
  },
  {
   "cell_type": "code",
   "execution_count": 11,
   "id": "41bdbd91-865f-4f7f-84bb-0e65a6d8e313",
   "metadata": {},
   "outputs": [],
   "source": [
    "# Start the camera saving data to disk\n",
    "camera.listen(lambda image: image.save_to_disk('out/%06d.png' % image.frame))"
   ]
  },
  {
   "cell_type": "code",
   "execution_count": 12,
   "id": "a5ec2768-00a5-48e8-8499-2a01061cc298",
   "metadata": {},
   "outputs": [
    {
     "ename": "",
     "evalue": "",
     "output_type": "error",
     "traceback": [
      "\u001b[1;31mThe Kernel crashed while executing code in the the current cell or a previous cell. Please review the code in the cell(s) to identify a possible cause of the failure. Click <a href='https://aka.ms/vscodeJupyterKernelCrash'>here</a> for more info. View Jupyter <a href='command:jupyter.viewOutput'>log</a> for further details."
     ]
    }
   ],
   "source": [
    "# Stop the camera when we've recorded enough data\n",
    "camera.stop()"
   ]
  }
 ],
 "metadata": {
  "kernelspec": {
   "display_name": "Python 3 (ipykernel)",
   "language": "python",
   "name": "python3"
  },
  "language_info": {
   "codemirror_mode": {
    "name": "ipython",
    "version": 3
   },
   "file_extension": ".py",
   "mimetype": "text/x-python",
   "name": "python",
   "nbconvert_exporter": "python",
   "pygments_lexer": "ipython3",
   "version": "3.8.18"
  },
  "toc-showcode": true
 },
 "nbformat": 4,
 "nbformat_minor": 5
}
