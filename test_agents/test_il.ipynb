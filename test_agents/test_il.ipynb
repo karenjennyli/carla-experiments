{
 "cells": [
  {
   "cell_type": "code",
   "execution_count": 5,
   "metadata": {},
   "outputs": [],
   "source": [
    "# Import the CARLA Python API library and some utils\n",
    "import sys\n",
    "\n",
    "try:\n",
    "    sys.path.append('/home/karenli/carla/PythonAPI/carla/dist/carla-0.9.14-py3.8-linux-x86_64.egg')\n",
    "except IndexError:\n",
    "    print('Error: CARLA PythonAPI not found.')\n",
    "    pass\n",
    "\n",
    "import carla \n",
    "import random "
   ]
  },
  {
   "cell_type": "code",
   "execution_count": 6,
   "metadata": {},
   "outputs": [],
   "source": [
    "# Connect to the client and get the world object\n",
    "city_name = 'Town01'\n",
    "client = carla.Client('localhost', 2000)\n",
    "client.load_world(city_name)\n",
    "world = client.get_world()"
   ]
  },
  {
   "cell_type": "code",
   "execution_count": 7,
   "metadata": {},
   "outputs": [],
   "source": [
    "# Get the blueprint library\n",
    "bp_lib = world.get_blueprint_library() "
   ]
  },
  {
   "cell_type": "code",
   "execution_count": 8,
   "metadata": {},
   "outputs": [],
   "source": [
    "# Get the map spawn points\n",
    "spawn_points = world.get_map().get_spawn_points()"
   ]
  },
  {
   "cell_type": "code",
   "execution_count": 32,
   "metadata": {},
   "outputs": [],
   "source": [
    "# View all spawn points in debug mode\n",
    "for i, spawn_point in enumerate(spawn_points):\n",
    "    # Draw in the spectator window the spawn point index\n",
    "    world.debug.draw_string(spawn_point.location, str(i), life_time=100)\n",
    "    # We can also draw an arrow to see the orientation of the spawn point\n",
    "    # (i.e. which way the vehicle will be facing when spawned)\n",
    "    world.debug.draw_arrow(spawn_point.location, spawn_point.location + spawn_point.get_forward_vector(), life_time=100)"
   ]
  },
  {
   "cell_type": "code",
   "execution_count": 17,
   "metadata": {},
   "outputs": [],
   "source": [
    "# Start and end spawn points for right turn\n",
    "spawn_point_start = spawn_points[18]\n",
    "spawn_point_end = spawn_points[148]"
   ]
  },
  {
   "cell_type": "code",
   "execution_count": 31,
   "metadata": {},
   "outputs": [],
   "source": [
    "# Retrieve the spectator object\n",
    "spectator = world.get_spectator()\n",
    "\n",
    "# Set the spectator location\n",
    "location = spawn_point_start.location\n",
    "spectator.set_location(location + carla.Location(z=50))"
   ]
  },
  {
   "cell_type": "code",
   "execution_count": 30,
   "metadata": {},
   "outputs": [],
   "source": [
    "# Get the blueprint for the vehicle you want\n",
    "vehicle_bp = bp_lib.find('vehicle.lincoln.mkz_2020') \n",
    "\n",
    "# Try spawning the vehicle at a randomly chosen spawn point\n",
    "vehicle = world.try_spawn_actor(vehicle_bp, spawn_point_start)"
   ]
  },
  {
   "cell_type": "code",
   "execution_count": 35,
   "metadata": {},
   "outputs": [
    {
     "name": "stdout",
     "output_type": "stream",
     "text": [
      "Unexpected exception formatting exception. Falling back to standard exception\n"
     ]
    },
    {
     "name": "stderr",
     "output_type": "stream",
     "text": [
      "Traceback (most recent call last):\n",
      "  File \"/home/karenli/miniconda3/envs/carlapy38/lib/python3.8/site-packages/IPython/core/interactiveshell.py\", line 3508, in run_code\n",
      "    exec(code_obj, self.user_global_ns, self.user_ns)\n",
      "  File \"/tmp/ipykernel_728591/1828645170.py\", line 2, in <module>\n",
      "    from agents.imitation.imitation_learning import ImitationLearning\n",
      "  File \"/home/karenli/carla-experiments/test_agents/agents/imitation/imitation_learning.py\", line 7, in <module>\n",
      "    import tensorflow as tf\n",
      "  File \"/home/karenli/miniconda3/envs/carlapy38/lib/python3.8/site-packages/tensorflow/__init__.py\", line 41, in <module>\n",
      "    from tensorflow.python.tools import module_util as _module_util\n",
      "  File \"/home/karenli/miniconda3/envs/carlapy38/lib/python3.8/site-packages/tensorflow/python/__init__.py\", line 41, in <module>\n",
      "    from tensorflow.python.eager import context\n",
      "  File \"/home/karenli/miniconda3/envs/carlapy38/lib/python3.8/site-packages/tensorflow/python/eager/context.py\", line 37, in <module>\n",
      "    from tensorflow.python.client import pywrap_tf_session\n",
      "  File \"/home/karenli/miniconda3/envs/carlapy38/lib/python3.8/site-packages/tensorflow/python/client/pywrap_tf_session.py\", line 23, in <module>\n",
      "    from tensorflow.python._pywrap_tf_session import *\n",
      "ImportError: /home/karenli/miniconda3/envs/carlapy38/lib/python3.8/site-packages/tensorflow/python/_pywrap_tf_session.so: undefined symbol: _ZN10tensorflow27SetRequireShapeInferenceFnsEP8TF_Graphb, version tensorflow\n",
      "\n",
      "During handling of the above exception, another exception occurred:\n",
      "\n",
      "Traceback (most recent call last):\n",
      "  File \"/home/karenli/miniconda3/envs/carlapy38/lib/python3.8/site-packages/IPython/core/interactiveshell.py\", line 2105, in showtraceback\n",
      "    stb = self.InteractiveTB.structured_traceback(\n",
      "  File \"/home/karenli/miniconda3/envs/carlapy38/lib/python3.8/site-packages/IPython/core/ultratb.py\", line 1396, in structured_traceback\n",
      "    return FormattedTB.structured_traceback(\n",
      "  File \"/home/karenli/miniconda3/envs/carlapy38/lib/python3.8/site-packages/IPython/core/ultratb.py\", line 1287, in structured_traceback\n",
      "    return VerboseTB.structured_traceback(\n",
      "  File \"/home/karenli/miniconda3/envs/carlapy38/lib/python3.8/site-packages/IPython/core/ultratb.py\", line 1140, in structured_traceback\n",
      "    formatted_exception = self.format_exception_as_a_whole(etype, evalue, etb, number_of_lines_of_context,\n",
      "  File \"/home/karenli/miniconda3/envs/carlapy38/lib/python3.8/site-packages/IPython/core/ultratb.py\", line 1055, in format_exception_as_a_whole\n",
      "    frames.append(self.format_record(record))\n",
      "  File \"/home/karenli/miniconda3/envs/carlapy38/lib/python3.8/site-packages/IPython/core/ultratb.py\", line 955, in format_record\n",
      "    frame_info.lines, Colors, self.has_colors, lvals\n",
      "  File \"/home/karenli/miniconda3/envs/carlapy38/lib/python3.8/site-packages/IPython/core/ultratb.py\", line 778, in lines\n",
      "    return self._sd.lines\n",
      "  File \"/home/karenli/miniconda3/envs/carlapy38/lib/python3.8/site-packages/stack_data/utils.py\", line 145, in cached_property_wrapper\n",
      "    value = obj.__dict__[self.func.__name__] = self.func(obj)\n",
      "  File \"/home/karenli/miniconda3/envs/carlapy38/lib/python3.8/site-packages/stack_data/core.py\", line 698, in lines\n",
      "    pieces = self.included_pieces\n",
      "  File \"/home/karenli/miniconda3/envs/carlapy38/lib/python3.8/site-packages/stack_data/utils.py\", line 145, in cached_property_wrapper\n",
      "    value = obj.__dict__[self.func.__name__] = self.func(obj)\n",
      "  File \"/home/karenli/miniconda3/envs/carlapy38/lib/python3.8/site-packages/stack_data/core.py\", line 649, in included_pieces\n",
      "    pos = scope_pieces.index(self.executing_piece)\n",
      "  File \"/home/karenli/miniconda3/envs/carlapy38/lib/python3.8/site-packages/stack_data/utils.py\", line 145, in cached_property_wrapper\n",
      "    value = obj.__dict__[self.func.__name__] = self.func(obj)\n",
      "  File \"/home/karenli/miniconda3/envs/carlapy38/lib/python3.8/site-packages/stack_data/core.py\", line 628, in executing_piece\n",
      "    return only(\n",
      "  File \"/home/karenli/miniconda3/envs/carlapy38/lib/python3.8/site-packages/executing/executing.py\", line 164, in only\n",
      "    raise NotOneValueFound('Expected one value, found 0')\n",
      "executing.executing.NotOneValueFound: Expected one value, found 0\n"
     ]
    }
   ],
   "source": [
    "# import agent\n",
    "from agents.imitation.imitation_learning import ImitationLearning\n",
    "\n",
    "# create imitation learning agent\n",
    "self.agent = ImitationLearning(city_name='Town01', avoid_stopping=False)"
   ]
  }
 ],
 "metadata": {
  "kernelspec": {
   "display_name": "carlapy38",
   "language": "python",
   "name": "python3"
  },
  "language_info": {
   "codemirror_mode": {
    "name": "ipython",
    "version": 3
   },
   "file_extension": ".py",
   "mimetype": "text/x-python",
   "name": "python",
   "nbconvert_exporter": "python",
   "pygments_lexer": "ipython3",
   "version": "3.8.18"
  }
 },
 "nbformat": 4,
 "nbformat_minor": 2
}
