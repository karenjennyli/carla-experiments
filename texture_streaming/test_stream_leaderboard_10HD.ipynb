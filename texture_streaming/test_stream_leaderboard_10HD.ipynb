{
 "cells": [
  {
   "cell_type": "code",
   "execution_count": null,
   "metadata": {},
   "outputs": [],
   "source": [
    "import carla\n",
    "\n",
    "# connect to client\n",
    "client = carla.Client('127.0.0.1', 2000)\n",
    "client.set_timeout(2.0)\n",
    "world = client.get_world()\n",
    "print('Connected to world')"
   ]
  },
  {
   "cell_type": "code",
   "execution_count": null,
   "metadata": {},
   "outputs": [],
   "source": [
    "# load a town\n",
    "towns = client.get_available_maps()\n",
    "town = 'Town10HD'\n",
    "world = client.load_world(town)"
   ]
  },
  {
   "cell_type": "code",
   "execution_count": null,
   "metadata": {},
   "outputs": [],
   "source": [
    "# get all object names\n",
    "world.get_names_of_all_objects()"
   ]
  },
  {
   "cell_type": "code",
   "execution_count": null,
   "metadata": {},
   "outputs": [],
   "source": [
    "from PIL import Image\n",
    "\n",
    "# original texture\n",
    "image = Image.open('textures/T_Asphalt05_d.BMP')\n",
    "height = image.size[1]\n",
    "width = image.size[0]\n",
    "print('Loaded original texture with dimensions: ', width, 'x', height)\n",
    "\n",
    "# set texture to a color\n",
    "r = 255\n",
    "g = 0\n",
    "b = 0\n",
    "a = 255\n",
    "color = carla.Color(r, g, b, a)\n",
    "texture = carla.TextureColor(width, height)\n",
    "for x in range(0,width):\n",
    "    for y in range(0,height):\n",
    "        texture.set(x, y, color)\n",
    "print('Set texture to a color')"
   ]
  },
  {
   "cell_type": "code",
   "execution_count": null,
   "metadata": {},
   "outputs": [],
   "source": [
    "object_name = 'Road_Road_Town10HD'\n",
    "for i in range(1, 100):\n",
    "    this_object_name = object_name + str(i)\n",
    "    world.apply_color_texture_to_object(this_object_name, carla.MaterialParameter.Diffuse, texture)\n",
    "    print('Applied texture to object', this_object_name)"
   ]
  }
 ],
 "metadata": {
  "kernelspec": {
   "display_name": "LAV-env-0.9.13",
   "language": "python",
   "name": "python3"
  },
  "language_info": {
   "codemirror_mode": {
    "name": "ipython",
    "version": 3
   },
   "file_extension": ".py",
   "mimetype": "text/x-python",
   "name": "python",
   "nbconvert_exporter": "python",
   "pygments_lexer": "ipython3",
   "version": "3.7.12"
  }
 },
 "nbformat": 4,
 "nbformat_minor": 2
}
